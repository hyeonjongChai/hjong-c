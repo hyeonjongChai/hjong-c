{
  "nbformat": 4,
  "nbformat_minor": 0,
  "metadata": {
    "kernelspec": {
      "display_name": "Python 3",
      "language": "python",
      "name": "python3"
    },
    "language_info": {
      "codemirror_mode": {
        "name": "ipython",
        "version": 3
      },
      "file_extension": ".py",
      "mimetype": "text/x-python",
      "name": "python",
      "nbconvert_exporter": "python",
      "pygments_lexer": "ipython3",
      "version": "3.8.5"
    },
    "colab": {
      "name": "과제W09_20150962_채현종_VER2.ipynb",
      "provenance": [],
      "include_colab_link": true
    }
  },
  "cells": [
    {
      "cell_type": "markdown",
      "metadata": {
        "id": "view-in-github",
        "colab_type": "text"
      },
      "source": [
        "<a href=\"https://colab.research.google.com/github/hyeonjongChai/hjong-c/blob/main/%EA%B3%BC%EC%A0%9CW09_20150962_%EC%B1%84%ED%98%84%EC%A2%85_VER2.ipynb\" target=\"_parent\"><img src=\"https://colab.research.google.com/assets/colab-badge.svg\" alt=\"Open In Colab\"/></a>"
      ]
    },
    {
      "cell_type": "markdown",
      "metadata": {
        "id": "3bVbu7Gcbfs9"
      },
      "source": [
        "과제W09_20150962_채현종"
      ]
    },
    {
      "cell_type": "code",
      "metadata": {
        "id": "_3Q5tYTQbftD"
      },
      "source": [
        "%matplotlib inline\n",
        "import numpy as np\n",
        "import pandas as pd\n",
        "import matplotlib.pyplot as plt"
      ],
      "execution_count": null,
      "outputs": []
    },
    {
      "cell_type": "code",
      "metadata": {
        "id": "Fp2Ti3HabftE"
      },
      "source": [
        "from statsmodels.compat import lzip\n",
        "import numpy as np\n",
        "import matplotlib.pyplot as plt\n",
        "import statsmodels.api as sm\n",
        "from statsmodels.formula.api import ols"
      ],
      "execution_count": null,
      "outputs": []
    },
    {
      "cell_type": "code",
      "metadata": {
        "id": "GT53rQhTbftF"
      },
      "source": [
        "import os\n",
        "from ipypublish import nb_setup\n",
        "from IPython.display import Image"
      ],
      "execution_count": null,
      "outputs": []
    },
    {
      "cell_type": "markdown",
      "metadata": {
        "id": "bLGUdLSBbftF"
      },
      "source": [
        "## 1.주가데이터를 불러옵니다. 10점\n"
      ]
    },
    {
      "cell_type": "code",
      "metadata": {
        "id": "QB3onN_ybftF",
        "outputId": "04b7c2e6-e349-461b-858d-c1e63eaadd39"
      },
      "source": [
        "df = pd.read_csv('C:/Users/yssg9187/Desktop/20-2/3. 응용자료분석/D_data/s069500.csv')\n",
        "df"
      ],
      "execution_count": null,
      "outputs": [
        {
          "output_type": "execute_result",
          "data": {
            "text/html": [
              "<div>\n",
              "<style scoped>\n",
              "    .dataframe tbody tr th:only-of-type {\n",
              "        vertical-align: middle;\n",
              "    }\n",
              "\n",
              "    .dataframe tbody tr th {\n",
              "        vertical-align: top;\n",
              "    }\n",
              "\n",
              "    .dataframe thead th {\n",
              "        text-align: right;\n",
              "    }\n",
              "</style>\n",
              "<table border=\"1\" class=\"dataframe\">\n",
              "  <thead>\n",
              "    <tr style=\"text-align: right;\">\n",
              "      <th></th>\n",
              "      <th>Date</th>\n",
              "      <th>Open</th>\n",
              "      <th>High</th>\n",
              "      <th>Low</th>\n",
              "      <th>Close</th>\n",
              "      <th>Volume</th>\n",
              "      <th>Change</th>\n",
              "    </tr>\n",
              "  </thead>\n",
              "  <tbody>\n",
              "    <tr>\n",
              "      <th>0</th>\n",
              "      <td>2010-01-04</td>\n",
              "      <td>18973</td>\n",
              "      <td>19119</td>\n",
              "      <td>18973</td>\n",
              "      <td>19100</td>\n",
              "      <td>883268</td>\n",
              "      <td>0.006057</td>\n",
              "    </tr>\n",
              "    <tr>\n",
              "      <th>1</th>\n",
              "      <td>2010-01-05</td>\n",
              "      <td>19155</td>\n",
              "      <td>19163</td>\n",
              "      <td>19028</td>\n",
              "      <td>19081</td>\n",
              "      <td>1781284</td>\n",
              "      <td>-0.000995</td>\n",
              "    </tr>\n",
              "    <tr>\n",
              "      <th>2</th>\n",
              "      <td>2010-01-06</td>\n",
              "      <td>19110</td>\n",
              "      <td>19243</td>\n",
              "      <td>19103</td>\n",
              "      <td>19214</td>\n",
              "      <td>962659</td>\n",
              "      <td>0.006970</td>\n",
              "    </tr>\n",
              "    <tr>\n",
              "      <th>3</th>\n",
              "      <td>2010-01-07</td>\n",
              "      <td>19203</td>\n",
              "      <td>19224</td>\n",
              "      <td>18965</td>\n",
              "      <td>18976</td>\n",
              "      <td>1250996</td>\n",
              "      <td>-0.012387</td>\n",
              "    </tr>\n",
              "    <tr>\n",
              "      <th>4</th>\n",
              "      <td>2010-01-08</td>\n",
              "      <td>19052</td>\n",
              "      <td>19060</td>\n",
              "      <td>18810</td>\n",
              "      <td>19048</td>\n",
              "      <td>1428088</td>\n",
              "      <td>0.003794</td>\n",
              "    </tr>\n",
              "    <tr>\n",
              "      <th>...</th>\n",
              "      <td>...</td>\n",
              "      <td>...</td>\n",
              "      <td>...</td>\n",
              "      <td>...</td>\n",
              "      <td>...</td>\n",
              "      <td>...</td>\n",
              "      <td>...</td>\n",
              "    </tr>\n",
              "    <tr>\n",
              "      <th>2663</th>\n",
              "      <td>2020-10-20</td>\n",
              "      <td>31165</td>\n",
              "      <td>31520</td>\n",
              "      <td>31050</td>\n",
              "      <td>31520</td>\n",
              "      <td>9166339</td>\n",
              "      <td>0.007029</td>\n",
              "    </tr>\n",
              "    <tr>\n",
              "      <th>2664</th>\n",
              "      <td>2020-10-21</td>\n",
              "      <td>31575</td>\n",
              "      <td>31710</td>\n",
              "      <td>31470</td>\n",
              "      <td>31620</td>\n",
              "      <td>8601602</td>\n",
              "      <td>0.003173</td>\n",
              "    </tr>\n",
              "    <tr>\n",
              "      <th>2665</th>\n",
              "      <td>2020-10-22</td>\n",
              "      <td>31445</td>\n",
              "      <td>31460</td>\n",
              "      <td>31220</td>\n",
              "      <td>31405</td>\n",
              "      <td>8665206</td>\n",
              "      <td>-0.006799</td>\n",
              "    </tr>\n",
              "    <tr>\n",
              "      <th>2666</th>\n",
              "      <td>2020-10-23</td>\n",
              "      <td>31535</td>\n",
              "      <td>31625</td>\n",
              "      <td>31280</td>\n",
              "      <td>31520</td>\n",
              "      <td>7466985</td>\n",
              "      <td>0.003662</td>\n",
              "    </tr>\n",
              "    <tr>\n",
              "      <th>2667</th>\n",
              "      <td>2020-10-26</td>\n",
              "      <td>31615</td>\n",
              "      <td>31725</td>\n",
              "      <td>31430</td>\n",
              "      <td>31460</td>\n",
              "      <td>6501447</td>\n",
              "      <td>-0.001904</td>\n",
              "    </tr>\n",
              "  </tbody>\n",
              "</table>\n",
              "<p>2668 rows × 7 columns</p>\n",
              "</div>"
            ],
            "text/plain": [
              "            Date   Open   High    Low  Close   Volume    Change\n",
              "0     2010-01-04  18973  19119  18973  19100   883268  0.006057\n",
              "1     2010-01-05  19155  19163  19028  19081  1781284 -0.000995\n",
              "2     2010-01-06  19110  19243  19103  19214   962659  0.006970\n",
              "3     2010-01-07  19203  19224  18965  18976  1250996 -0.012387\n",
              "4     2010-01-08  19052  19060  18810  19048  1428088  0.003794\n",
              "...          ...    ...    ...    ...    ...      ...       ...\n",
              "2663  2020-10-20  31165  31520  31050  31520  9166339  0.007029\n",
              "2664  2020-10-21  31575  31710  31470  31620  8601602  0.003173\n",
              "2665  2020-10-22  31445  31460  31220  31405  8665206 -0.006799\n",
              "2666  2020-10-23  31535  31625  31280  31520  7466985  0.003662\n",
              "2667  2020-10-26  31615  31725  31430  31460  6501447 -0.001904\n",
              "\n",
              "[2668 rows x 7 columns]"
            ]
          },
          "metadata": {
            "tags": []
          },
          "execution_count": 4
        }
      ]
    },
    {
      "cell_type": "code",
      "metadata": {
        "id": "bMDuUJV0bftG"
      },
      "source": [
        "# # 교수님은 이 부분 XXXX\n",
        "# df1 = df.loc[:, [\"Date\", \"Close\"]]\n",
        "# df1 = df1.reset_index()\n",
        "# df1['Ret'] = (np.log(df1['Close'].astype('float32')) - np.log(df1['Close'].astype('float32').shift(1)))*100\n",
        "# df1"
      ],
      "execution_count": null,
      "outputs": []
    },
    {
      "cell_type": "markdown",
      "metadata": {
        "id": "xo4R67xSbftH"
      },
      "source": [
        "## 2.패키지를 이용하여 다음과 같은 time series regression 모델의 결과를 보입니다.10점"
      ]
    },
    {
      "cell_type": "code",
      "metadata": {
        "id": "2ezalm03bftH"
      },
      "source": [
        "# trend + cycle 예측 yt=β0+β1t+β1t2+β1t3+et"
      ],
      "execution_count": null,
      "outputs": []
    },
    {
      "cell_type": "code",
      "metadata": {
        "id": "aMQDb1YJbftH"
      },
      "source": [
        "stock = df[\"Close\"]"
      ],
      "execution_count": null,
      "outputs": []
    },
    {
      "cell_type": "code",
      "metadata": {
        "id": "tK4WlQP8bftI"
      },
      "source": [
        "T = list(range(1,len(stock)+1))"
      ],
      "execution_count": null,
      "outputs": []
    },
    {
      "cell_type": "code",
      "metadata": {
        "id": "ImAkgKa0bftI",
        "outputId": "ad0e3355-7434-4a5d-f1f2-d12c9d09987e"
      },
      "source": [
        "df['T'] = pd.DataFrame(T, columns = ['T'])\n",
        "df"
      ],
      "execution_count": null,
      "outputs": [
        {
          "output_type": "execute_result",
          "data": {
            "text/html": [
              "<div>\n",
              "<style scoped>\n",
              "    .dataframe tbody tr th:only-of-type {\n",
              "        vertical-align: middle;\n",
              "    }\n",
              "\n",
              "    .dataframe tbody tr th {\n",
              "        vertical-align: top;\n",
              "    }\n",
              "\n",
              "    .dataframe thead th {\n",
              "        text-align: right;\n",
              "    }\n",
              "</style>\n",
              "<table border=\"1\" class=\"dataframe\">\n",
              "  <thead>\n",
              "    <tr style=\"text-align: right;\">\n",
              "      <th></th>\n",
              "      <th>Date</th>\n",
              "      <th>Open</th>\n",
              "      <th>High</th>\n",
              "      <th>Low</th>\n",
              "      <th>Close</th>\n",
              "      <th>Volume</th>\n",
              "      <th>Change</th>\n",
              "      <th>T</th>\n",
              "    </tr>\n",
              "  </thead>\n",
              "  <tbody>\n",
              "    <tr>\n",
              "      <th>0</th>\n",
              "      <td>2010-01-04</td>\n",
              "      <td>18973</td>\n",
              "      <td>19119</td>\n",
              "      <td>18973</td>\n",
              "      <td>19100</td>\n",
              "      <td>883268</td>\n",
              "      <td>0.006057</td>\n",
              "      <td>1</td>\n",
              "    </tr>\n",
              "    <tr>\n",
              "      <th>1</th>\n",
              "      <td>2010-01-05</td>\n",
              "      <td>19155</td>\n",
              "      <td>19163</td>\n",
              "      <td>19028</td>\n",
              "      <td>19081</td>\n",
              "      <td>1781284</td>\n",
              "      <td>-0.000995</td>\n",
              "      <td>2</td>\n",
              "    </tr>\n",
              "    <tr>\n",
              "      <th>2</th>\n",
              "      <td>2010-01-06</td>\n",
              "      <td>19110</td>\n",
              "      <td>19243</td>\n",
              "      <td>19103</td>\n",
              "      <td>19214</td>\n",
              "      <td>962659</td>\n",
              "      <td>0.006970</td>\n",
              "      <td>3</td>\n",
              "    </tr>\n",
              "    <tr>\n",
              "      <th>3</th>\n",
              "      <td>2010-01-07</td>\n",
              "      <td>19203</td>\n",
              "      <td>19224</td>\n",
              "      <td>18965</td>\n",
              "      <td>18976</td>\n",
              "      <td>1250996</td>\n",
              "      <td>-0.012387</td>\n",
              "      <td>4</td>\n",
              "    </tr>\n",
              "    <tr>\n",
              "      <th>4</th>\n",
              "      <td>2010-01-08</td>\n",
              "      <td>19052</td>\n",
              "      <td>19060</td>\n",
              "      <td>18810</td>\n",
              "      <td>19048</td>\n",
              "      <td>1428088</td>\n",
              "      <td>0.003794</td>\n",
              "      <td>5</td>\n",
              "    </tr>\n",
              "    <tr>\n",
              "      <th>...</th>\n",
              "      <td>...</td>\n",
              "      <td>...</td>\n",
              "      <td>...</td>\n",
              "      <td>...</td>\n",
              "      <td>...</td>\n",
              "      <td>...</td>\n",
              "      <td>...</td>\n",
              "      <td>...</td>\n",
              "    </tr>\n",
              "    <tr>\n",
              "      <th>2663</th>\n",
              "      <td>2020-10-20</td>\n",
              "      <td>31165</td>\n",
              "      <td>31520</td>\n",
              "      <td>31050</td>\n",
              "      <td>31520</td>\n",
              "      <td>9166339</td>\n",
              "      <td>0.007029</td>\n",
              "      <td>2664</td>\n",
              "    </tr>\n",
              "    <tr>\n",
              "      <th>2664</th>\n",
              "      <td>2020-10-21</td>\n",
              "      <td>31575</td>\n",
              "      <td>31710</td>\n",
              "      <td>31470</td>\n",
              "      <td>31620</td>\n",
              "      <td>8601602</td>\n",
              "      <td>0.003173</td>\n",
              "      <td>2665</td>\n",
              "    </tr>\n",
              "    <tr>\n",
              "      <th>2665</th>\n",
              "      <td>2020-10-22</td>\n",
              "      <td>31445</td>\n",
              "      <td>31460</td>\n",
              "      <td>31220</td>\n",
              "      <td>31405</td>\n",
              "      <td>8665206</td>\n",
              "      <td>-0.006799</td>\n",
              "      <td>2666</td>\n",
              "    </tr>\n",
              "    <tr>\n",
              "      <th>2666</th>\n",
              "      <td>2020-10-23</td>\n",
              "      <td>31535</td>\n",
              "      <td>31625</td>\n",
              "      <td>31280</td>\n",
              "      <td>31520</td>\n",
              "      <td>7466985</td>\n",
              "      <td>0.003662</td>\n",
              "      <td>2667</td>\n",
              "    </tr>\n",
              "    <tr>\n",
              "      <th>2667</th>\n",
              "      <td>2020-10-26</td>\n",
              "      <td>31615</td>\n",
              "      <td>31725</td>\n",
              "      <td>31430</td>\n",
              "      <td>31460</td>\n",
              "      <td>6501447</td>\n",
              "      <td>-0.001904</td>\n",
              "      <td>2668</td>\n",
              "    </tr>\n",
              "  </tbody>\n",
              "</table>\n",
              "<p>2668 rows × 8 columns</p>\n",
              "</div>"
            ],
            "text/plain": [
              "            Date   Open   High    Low  Close   Volume    Change     T\n",
              "0     2010-01-04  18973  19119  18973  19100   883268  0.006057     1\n",
              "1     2010-01-05  19155  19163  19028  19081  1781284 -0.000995     2\n",
              "2     2010-01-06  19110  19243  19103  19214   962659  0.006970     3\n",
              "3     2010-01-07  19203  19224  18965  18976  1250996 -0.012387     4\n",
              "4     2010-01-08  19052  19060  18810  19048  1428088  0.003794     5\n",
              "...          ...    ...    ...    ...    ...      ...       ...   ...\n",
              "2663  2020-10-20  31165  31520  31050  31520  9166339  0.007029  2664\n",
              "2664  2020-10-21  31575  31710  31470  31620  8601602  0.003173  2665\n",
              "2665  2020-10-22  31445  31460  31220  31405  8665206 -0.006799  2666\n",
              "2666  2020-10-23  31535  31625  31280  31520  7466985  0.003662  2667\n",
              "2667  2020-10-26  31615  31725  31430  31460  6501447 -0.001904  2668\n",
              "\n",
              "[2668 rows x 8 columns]"
            ]
          },
          "metadata": {
            "tags": []
          },
          "execution_count": 9
        }
      ]
    },
    {
      "cell_type": "code",
      "metadata": {
        "id": "yrQ6T2LibftI"
      },
      "source": [
        "df['T2'] = df['T']*df['T']"
      ],
      "execution_count": null,
      "outputs": []
    },
    {
      "cell_type": "code",
      "metadata": {
        "id": "LB494OhGbftJ"
      },
      "source": [
        "df['T3'] = df['T']*df['T']*df['T']"
      ],
      "execution_count": null,
      "outputs": []
    },
    {
      "cell_type": "code",
      "metadata": {
        "id": "3g6f3-l3bftJ"
      },
      "source": [
        "stock = ols(\"Close ~ T + T2 + T3\", data=df).fit()"
      ],
      "execution_count": null,
      "outputs": []
    },
    {
      "cell_type": "code",
      "metadata": {
        "id": "nu5agTEEbftJ",
        "outputId": "0db857a1-25a2-4fba-b582-2f6595214d9e"
      },
      "source": [
        "print(stock.summary())"
      ],
      "execution_count": null,
      "outputs": [
        {
          "output_type": "stream",
          "text": [
            "                            OLS Regression Results                            \n",
            "==============================================================================\n",
            "Dep. Variable:                  Close   R-squared:                       0.619\n",
            "Model:                            OLS   Adj. R-squared:                  0.619\n",
            "Method:                 Least Squares   F-statistic:                     1445.\n",
            "Date:                Tue, 08 Dec 2020   Prob (F-statistic):               0.00\n",
            "Time:                        22:07:33   Log-Likelihood:                -24102.\n",
            "No. Observations:                2668   AIC:                         4.821e+04\n",
            "Df Residuals:                    2664   BIC:                         4.824e+04\n",
            "Df Model:                           3                                         \n",
            "Covariance Type:            nonrobust                                         \n",
            "==============================================================================\n",
            "                 coef    std err          t      P>|t|      [0.025      0.975]\n",
            "------------------------------------------------------------------------------\n",
            "Intercept   2.072e+04    157.415    131.639      0.000    2.04e+04     2.1e+04\n",
            "T              0.9668      0.511      1.893      0.058      -0.035       1.968\n",
            "T2             0.0013      0.000      2.921      0.004       0.000       0.002\n",
            "T3         -1.716e-07   1.09e-07     -1.567      0.117   -3.86e-07    4.31e-08\n",
            "==============================================================================\n",
            "Omnibus:                       56.490   Durbin-Watson:                   0.016\n",
            "Prob(Omnibus):                  0.000   Jarque-Bera (JB):               59.676\n",
            "Skew:                           0.355   Prob(JB):                     1.10e-13\n",
            "Kurtosis:                       3.182   Cond. No.                     2.88e+10\n",
            "==============================================================================\n",
            "\n",
            "Notes:\n",
            "[1] Standard Errors assume that the covariance matrix of the errors is correctly specified.\n",
            "[2] The condition number is large, 2.88e+10. This might indicate that there are\n",
            "strong multicollinearity or other numerical problems.\n"
          ],
          "name": "stdout"
        }
      ]
    },
    {
      "cell_type": "markdown",
      "metadata": {
        "id": "gzchot5jbftK"
      },
      "source": [
        "## 3. Autocorrelation이 있는지 Durbin-Watson 검정을 실시하여 autocorrelation 여부를 판단합니다.\n",
        "\n",
        "### 3.1. 모델의 Durbin-Watson값을 보입니다. 10점"
      ]
    },
    {
      "cell_type": "markdown",
      "metadata": {
        "id": "XmTdeUIVbftK"
      },
      "source": [
        "Durbin-Watson:                   0.016"
      ]
    },
    {
      "cell_type": "markdown",
      "metadata": {
        "id": "9NJCezqDbftK"
      },
      "source": [
        "### 3.2. Durbin-Watson test를 실시하기 위해 필요한 검정표에서 n=200인 dL과 dU를 사용합니다. 10점\n"
      ]
    },
    {
      "cell_type": "markdown",
      "metadata": {
        "id": "BEaeMftKbftK"
      },
      "source": [
        "k=3 (T1,T2,T3) & n=200, \n",
        "dL = 1.74, dU = 1.8 "
      ]
    },
    {
      "cell_type": "markdown",
      "metadata": {
        "id": "W4eYy_x9bftK"
      },
      "source": [
        "### 3.3. Autocorrelation 여부를 검정합니다. 10점"
      ]
    },
    {
      "cell_type": "markdown",
      "metadata": {
        "id": "VVi4ysUtbftL"
      },
      "source": [
        "d < dL 이므로, 기무가설을 기각한다.(positivly autocorrelated)"
      ]
    },
    {
      "cell_type": "markdown",
      "metadata": {
        "id": "NcSp8B5DbftL"
      },
      "source": [
        "## 4.2020.10.27일 예측주가를 제시합니다. 10점\n"
      ]
    },
    {
      "cell_type": "code",
      "metadata": {
        "id": "h1MQBpqFbftL",
        "outputId": "255e4595-84d9-4813-e9f9-262b6755ff8b"
      },
      "source": [
        "beta = stock.params\n",
        "beta"
      ],
      "execution_count": null,
      "outputs": [
        {
          "output_type": "execute_result",
          "data": {
            "text/plain": [
              "Intercept    2.072185e+04\n",
              "T            9.668019e-01\n",
              "T2           1.298405e-03\n",
              "T3          -1.716293e-07\n",
              "dtype: float64"
            ]
          },
          "metadata": {
            "tags": []
          },
          "execution_count": 14
        }
      ]
    },
    {
      "cell_type": "code",
      "metadata": {
        "id": "H_lVGY3MbftL"
      },
      "source": [
        "p2669 = beta[0] + beta[1] * 2669 + beta[2] * 2669*2669 + beta[3] * 2669*2669*2669 "
      ],
      "execution_count": null,
      "outputs": []
    },
    {
      "cell_type": "code",
      "metadata": {
        "id": "R2eoxlIebftL",
        "outputId": "d24e82be-31a4-41ed-9020-5f405f7067b5"
      },
      "source": [
        "p2669"
      ],
      "execution_count": null,
      "outputs": [
        {
          "output_type": "execute_result",
          "data": {
            "text/plain": [
              "29288.364114030595"
            ]
          },
          "metadata": {
            "tags": []
          },
          "execution_count": 16
        }
      ]
    },
    {
      "cell_type": "code",
      "metadata": {
        "id": "_JsIcgJ5bftM"
      },
      "source": [
        "X = df[['T' ,'T2', 'T3']]"
      ],
      "execution_count": null,
      "outputs": []
    },
    {
      "cell_type": "code",
      "metadata": {
        "id": "egV_64CkbftM",
        "outputId": "90b3ab53-48b3-4aba-9be0-2465159b6fce"
      },
      "source": [
        "ypred = stock.predict(X)\n",
        "print(ypred)"
      ],
      "execution_count": null,
      "outputs": [
        {
          "output_type": "stream",
          "text": [
            "0       20722.819070\n",
            "1       20723.789765\n",
            "2       20724.763056\n",
            "3       20725.738940\n",
            "4       20726.717418\n",
            "            ...     \n",
            "2663    29267.212967\n",
            "2664    29271.443494\n",
            "2665    29275.673873\n",
            "2666    29279.904103\n",
            "2667    29284.134184\n",
            "Length: 2668, dtype: float64\n"
          ],
          "name": "stdout"
        }
      ]
    },
    {
      "cell_type": "code",
      "metadata": {
        "id": "0k0Ffx5tbftM",
        "outputId": "c0f76050-c09c-436f-8e28-c7ee6a78fe26"
      },
      "source": [
        "yactual = df['Close']\n",
        "yactual"
      ],
      "execution_count": null,
      "outputs": [
        {
          "output_type": "execute_result",
          "data": {
            "text/plain": [
              "0       19100\n",
              "1       19081\n",
              "2       19214\n",
              "3       18976\n",
              "4       19048\n",
              "        ...  \n",
              "2663    31520\n",
              "2664    31620\n",
              "2665    31405\n",
              "2666    31520\n",
              "2667    31460\n",
              "Name: Close, Length: 2668, dtype: int64"
            ]
          },
          "metadata": {
            "tags": []
          },
          "execution_count": 19
        }
      ]
    },
    {
      "cell_type": "code",
      "metadata": {
        "id": "zdfrmJcKbftM",
        "outputId": "f66e6907-a3b0-4e2b-ff35-49d335307607"
      },
      "source": [
        "df['yred'] = ypred\n",
        "df"
      ],
      "execution_count": null,
      "outputs": [
        {
          "output_type": "execute_result",
          "data": {
            "text/html": [
              "<div>\n",
              "<style scoped>\n",
              "    .dataframe tbody tr th:only-of-type {\n",
              "        vertical-align: middle;\n",
              "    }\n",
              "\n",
              "    .dataframe tbody tr th {\n",
              "        vertical-align: top;\n",
              "    }\n",
              "\n",
              "    .dataframe thead th {\n",
              "        text-align: right;\n",
              "    }\n",
              "</style>\n",
              "<table border=\"1\" class=\"dataframe\">\n",
              "  <thead>\n",
              "    <tr style=\"text-align: right;\">\n",
              "      <th></th>\n",
              "      <th>Date</th>\n",
              "      <th>Open</th>\n",
              "      <th>High</th>\n",
              "      <th>Low</th>\n",
              "      <th>Close</th>\n",
              "      <th>Volume</th>\n",
              "      <th>Change</th>\n",
              "      <th>T</th>\n",
              "      <th>T2</th>\n",
              "      <th>T3</th>\n",
              "      <th>yred</th>\n",
              "    </tr>\n",
              "  </thead>\n",
              "  <tbody>\n",
              "    <tr>\n",
              "      <th>0</th>\n",
              "      <td>2010-01-04</td>\n",
              "      <td>18973</td>\n",
              "      <td>19119</td>\n",
              "      <td>18973</td>\n",
              "      <td>19100</td>\n",
              "      <td>883268</td>\n",
              "      <td>0.006057</td>\n",
              "      <td>1</td>\n",
              "      <td>1</td>\n",
              "      <td>1</td>\n",
              "      <td>20722.819070</td>\n",
              "    </tr>\n",
              "    <tr>\n",
              "      <th>1</th>\n",
              "      <td>2010-01-05</td>\n",
              "      <td>19155</td>\n",
              "      <td>19163</td>\n",
              "      <td>19028</td>\n",
              "      <td>19081</td>\n",
              "      <td>1781284</td>\n",
              "      <td>-0.000995</td>\n",
              "      <td>2</td>\n",
              "      <td>4</td>\n",
              "      <td>8</td>\n",
              "      <td>20723.789765</td>\n",
              "    </tr>\n",
              "    <tr>\n",
              "      <th>2</th>\n",
              "      <td>2010-01-06</td>\n",
              "      <td>19110</td>\n",
              "      <td>19243</td>\n",
              "      <td>19103</td>\n",
              "      <td>19214</td>\n",
              "      <td>962659</td>\n",
              "      <td>0.006970</td>\n",
              "      <td>3</td>\n",
              "      <td>9</td>\n",
              "      <td>27</td>\n",
              "      <td>20724.763056</td>\n",
              "    </tr>\n",
              "    <tr>\n",
              "      <th>3</th>\n",
              "      <td>2010-01-07</td>\n",
              "      <td>19203</td>\n",
              "      <td>19224</td>\n",
              "      <td>18965</td>\n",
              "      <td>18976</td>\n",
              "      <td>1250996</td>\n",
              "      <td>-0.012387</td>\n",
              "      <td>4</td>\n",
              "      <td>16</td>\n",
              "      <td>64</td>\n",
              "      <td>20725.738940</td>\n",
              "    </tr>\n",
              "    <tr>\n",
              "      <th>4</th>\n",
              "      <td>2010-01-08</td>\n",
              "      <td>19052</td>\n",
              "      <td>19060</td>\n",
              "      <td>18810</td>\n",
              "      <td>19048</td>\n",
              "      <td>1428088</td>\n",
              "      <td>0.003794</td>\n",
              "      <td>5</td>\n",
              "      <td>25</td>\n",
              "      <td>125</td>\n",
              "      <td>20726.717418</td>\n",
              "    </tr>\n",
              "    <tr>\n",
              "      <th>...</th>\n",
              "      <td>...</td>\n",
              "      <td>...</td>\n",
              "      <td>...</td>\n",
              "      <td>...</td>\n",
              "      <td>...</td>\n",
              "      <td>...</td>\n",
              "      <td>...</td>\n",
              "      <td>...</td>\n",
              "      <td>...</td>\n",
              "      <td>...</td>\n",
              "      <td>...</td>\n",
              "    </tr>\n",
              "    <tr>\n",
              "      <th>2663</th>\n",
              "      <td>2020-10-20</td>\n",
              "      <td>31165</td>\n",
              "      <td>31520</td>\n",
              "      <td>31050</td>\n",
              "      <td>31520</td>\n",
              "      <td>9166339</td>\n",
              "      <td>0.007029</td>\n",
              "      <td>2664</td>\n",
              "      <td>7096896</td>\n",
              "      <td>18906130944</td>\n",
              "      <td>29267.212967</td>\n",
              "    </tr>\n",
              "    <tr>\n",
              "      <th>2664</th>\n",
              "      <td>2020-10-21</td>\n",
              "      <td>31575</td>\n",
              "      <td>31710</td>\n",
              "      <td>31470</td>\n",
              "      <td>31620</td>\n",
              "      <td>8601602</td>\n",
              "      <td>0.003173</td>\n",
              "      <td>2665</td>\n",
              "      <td>7102225</td>\n",
              "      <td>18927429625</td>\n",
              "      <td>29271.443494</td>\n",
              "    </tr>\n",
              "    <tr>\n",
              "      <th>2665</th>\n",
              "      <td>2020-10-22</td>\n",
              "      <td>31445</td>\n",
              "      <td>31460</td>\n",
              "      <td>31220</td>\n",
              "      <td>31405</td>\n",
              "      <td>8665206</td>\n",
              "      <td>-0.006799</td>\n",
              "      <td>2666</td>\n",
              "      <td>7107556</td>\n",
              "      <td>18948744296</td>\n",
              "      <td>29275.673873</td>\n",
              "    </tr>\n",
              "    <tr>\n",
              "      <th>2666</th>\n",
              "      <td>2020-10-23</td>\n",
              "      <td>31535</td>\n",
              "      <td>31625</td>\n",
              "      <td>31280</td>\n",
              "      <td>31520</td>\n",
              "      <td>7466985</td>\n",
              "      <td>0.003662</td>\n",
              "      <td>2667</td>\n",
              "      <td>7112889</td>\n",
              "      <td>18970074963</td>\n",
              "      <td>29279.904103</td>\n",
              "    </tr>\n",
              "    <tr>\n",
              "      <th>2667</th>\n",
              "      <td>2020-10-26</td>\n",
              "      <td>31615</td>\n",
              "      <td>31725</td>\n",
              "      <td>31430</td>\n",
              "      <td>31460</td>\n",
              "      <td>6501447</td>\n",
              "      <td>-0.001904</td>\n",
              "      <td>2668</td>\n",
              "      <td>7118224</td>\n",
              "      <td>18991421632</td>\n",
              "      <td>29284.134184</td>\n",
              "    </tr>\n",
              "  </tbody>\n",
              "</table>\n",
              "<p>2668 rows × 11 columns</p>\n",
              "</div>"
            ],
            "text/plain": [
              "            Date   Open   High    Low  Close   Volume    Change     T  \\\n",
              "0     2010-01-04  18973  19119  18973  19100   883268  0.006057     1   \n",
              "1     2010-01-05  19155  19163  19028  19081  1781284 -0.000995     2   \n",
              "2     2010-01-06  19110  19243  19103  19214   962659  0.006970     3   \n",
              "3     2010-01-07  19203  19224  18965  18976  1250996 -0.012387     4   \n",
              "4     2010-01-08  19052  19060  18810  19048  1428088  0.003794     5   \n",
              "...          ...    ...    ...    ...    ...      ...       ...   ...   \n",
              "2663  2020-10-20  31165  31520  31050  31520  9166339  0.007029  2664   \n",
              "2664  2020-10-21  31575  31710  31470  31620  8601602  0.003173  2665   \n",
              "2665  2020-10-22  31445  31460  31220  31405  8665206 -0.006799  2666   \n",
              "2666  2020-10-23  31535  31625  31280  31520  7466985  0.003662  2667   \n",
              "2667  2020-10-26  31615  31725  31430  31460  6501447 -0.001904  2668   \n",
              "\n",
              "           T2           T3          yred  \n",
              "0           1            1  20722.819070  \n",
              "1           4            8  20723.789765  \n",
              "2           9           27  20724.763056  \n",
              "3          16           64  20725.738940  \n",
              "4          25          125  20726.717418  \n",
              "...       ...          ...           ...  \n",
              "2663  7096896  18906130944  29267.212967  \n",
              "2664  7102225  18927429625  29271.443494  \n",
              "2665  7107556  18948744296  29275.673873  \n",
              "2666  7112889  18970074963  29279.904103  \n",
              "2667  7118224  18991421632  29284.134184  \n",
              "\n",
              "[2668 rows x 11 columns]"
            ]
          },
          "metadata": {
            "tags": []
          },
          "execution_count": 20
        }
      ]
    },
    {
      "cell_type": "markdown",
      "metadata": {
        "id": "BGzNQS0ybftN"
      },
      "source": [
        "위 모델에서 2020.10.27 주가는 약 29284로 예측된다."
      ]
    },
    {
      "cell_type": "markdown",
      "metadata": {
        "id": "HFpoEmy4bftN"
      },
      "source": [
        "## 5.2020.10.27일 예측주가의 95% ,predected error 구간을 구합니다.10점\n"
      ]
    },
    {
      "cell_type": "code",
      "metadata": {
        "id": "TdekyFLnbftN",
        "outputId": "9fd2ff18-6b63-4079-98e1-c16905c6369f"
      },
      "source": [
        "sig = np.sqrt(stock.mse_resid)\n",
        "sig"
      ],
      "execution_count": null,
      "outputs": [
        {
          "output_type": "execute_result",
          "data": {
            "text/plain": [
              "2029.8671285111882"
            ]
          },
          "metadata": {
            "tags": []
          },
          "execution_count": 21
        }
      ]
    },
    {
      "cell_type": "code",
      "metadata": {
        "id": "-1Pgdg4cbftN"
      },
      "source": [
        "df['constant'] = 1"
      ],
      "execution_count": null,
      "outputs": []
    },
    {
      "cell_type": "code",
      "metadata": {
        "id": "ArGbhKOkbftN"
      },
      "source": [
        "x_p = [1, 2669, 2669*2669, 2669*2669*2669]"
      ],
      "execution_count": null,
      "outputs": []
    },
    {
      "cell_type": "code",
      "metadata": {
        "id": "noJ4r4U7bftO"
      },
      "source": [
        "x = df[['constant', 'T', 'T2', 'T3']]"
      ],
      "execution_count": null,
      "outputs": []
    },
    {
      "cell_type": "code",
      "metadata": {
        "id": "sUGojeY6bftO"
      },
      "source": [
        "XtX = np.dot(x.T, x) # Xt : 전치행렬 / np.dot : 행렬의 곱"
      ],
      "execution_count": null,
      "outputs": []
    },
    {
      "cell_type": "code",
      "metadata": {
        "id": "tzqvwHtSbftO"
      },
      "source": [
        "XtX_inv  = np.linalg.inv(XtX) # 역행렬"
      ],
      "execution_count": null,
      "outputs": []
    },
    {
      "cell_type": "code",
      "metadata": {
        "id": "FPv2rXsYbftO"
      },
      "source": [
        "se = ( np.dot(x_p, np.dot(XtX_inv, x_p)) + 1) * sig"
      ],
      "execution_count": null,
      "outputs": []
    },
    {
      "cell_type": "code",
      "metadata": {
        "id": "vXBYkS-lbftO",
        "outputId": "328c8150-3e34-4161-853f-4adc64722727"
      },
      "source": [
        "se"
      ],
      "execution_count": null,
      "outputs": [
        {
          "output_type": "execute_result",
          "data": {
            "text/plain": [
              "2032.512886834565"
            ]
          },
          "metadata": {
            "tags": []
          },
          "execution_count": 28
        }
      ]
    },
    {
      "cell_type": "code",
      "metadata": {
        "id": "RleJVx9XbftO",
        "outputId": "0ff4389c-0b3a-4287-9d1b-f38513837f09"
      },
      "source": [
        "p2669"
      ],
      "execution_count": null,
      "outputs": [
        {
          "output_type": "execute_result",
          "data": {
            "text/plain": [
              "29288.364114030595"
            ]
          },
          "metadata": {
            "tags": []
          },
          "execution_count": 29
        }
      ]
    },
    {
      "cell_type": "code",
      "metadata": {
        "id": "hDdjO4tpbftP",
        "outputId": "da836506-b0ba-49a9-84e1-bca84666df49"
      },
      "source": [
        "lowerBound = p2669 - 2*se\n",
        "lowerBound"
      ],
      "execution_count": null,
      "outputs": [
        {
          "output_type": "execute_result",
          "data": {
            "text/plain": [
              "25223.338340361464"
            ]
          },
          "metadata": {
            "tags": []
          },
          "execution_count": 30
        }
      ]
    },
    {
      "cell_type": "code",
      "metadata": {
        "id": "ZFYcVmTdbftP",
        "outputId": "30655e9a-4270-49df-aacd-ab429ef9fc4f"
      },
      "source": [
        "upperBound = p2669  + 2*se\n",
        "upperBound"
      ],
      "execution_count": null,
      "outputs": [
        {
          "output_type": "execute_result",
          "data": {
            "text/plain": [
              "33353.38988769973"
            ]
          },
          "metadata": {
            "tags": []
          },
          "execution_count": 31
        }
      ]
    },
    {
      "cell_type": "markdown",
      "metadata": {
        "id": "d7e0HSTWbftP"
      },
      "source": [
        "예측주가의 95%의 범위는 lowerbound ~ upperbound\n",
        "약 25223 ~ 33353"
      ]
    },
    {
      "cell_type": "markdown",
      "metadata": {
        "id": "ZkhOyL5ebftP"
      },
      "source": [
        "## 6. 실제치와 모델에 의한 추정치를 그래프로 보입니다. .10점"
      ]
    },
    {
      "cell_type": "code",
      "metadata": {
        "id": "89mjGNQxbftP",
        "outputId": "3bf7c249-13c1-4f38-9c2b-18e750aef032"
      },
      "source": [
        "fig, ax = plt.subplots(nrows=1, figsize=(16, 4), sharex=True)\n",
        "df.plot(x = 'Date', y='Close', ax=ax, grid=True)\n",
        "df.plot(x = 'Date', y='yred',  ax=ax, grid=True)\n",
        "ax.set(xlabel=\"time\", ylabel=\"Index\");\n",
        "plt.show()"
      ],
      "execution_count": null,
      "outputs": [
        {
          "output_type": "display_data",
          "data": {
            "image/png": "[encoded data removed]",
            "text/plain": [
              "<Figure size 1152x288 with 1 Axes>"
            ]
          },
          "metadata": {
            "tags": [],
            "needs_background": "light"
          }
        }
      ]
    }
  ]
}